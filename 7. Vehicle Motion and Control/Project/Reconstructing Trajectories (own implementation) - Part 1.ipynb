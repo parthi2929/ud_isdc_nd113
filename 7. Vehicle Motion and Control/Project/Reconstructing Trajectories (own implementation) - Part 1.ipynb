{
 "cells": [
  {
   "cell_type": "markdown",
   "metadata": {},
   "source": [
    "This is own implementation of Udacity iSDC's optional project \"Reconstructing Trajectories\".  \n",
    "\n",
    "**Given data:**"
   ]
  },
  {
   "cell_type": "markdown",
   "metadata": {},
   "source": [
    "| timestamp | displacement  | yaw_rate | acceleration |\n",
    "| :-------: | :----------: | :------: | :----------: |\n",
    "| 0.0 | 0 | 0.0 | 0.0 |\n",
    "| 0.25 | 0.0 | 0.0 | 19.6 |\n",
    "| 0.5 | 1.225 | 0.0 | 19.6 |\n",
    "| 0.75 | 3.675 | 0.0 | 19.6 |\n",
    "| 1.0 | 7.35 | 0.0 | 19.6 |\n",
    "| 1.25 | 12.25 | 0.0 | 0.0 |\n",
    "| 1.5 | 17.15 | -2.82901631903 | 0.0 |\n",
    "| 1.75 | 22.05 | -2.82901631903 | 0.0 |\n",
    "| 2.0 | 26.95 | -2.82901631903 | 0.0 |\n",
    "| 2.25 | 31.85 | -2.82901631903 | 0.0 |\n",
    "| 2.5 | 36.75 | -2.82901631903 | 0.0 |\n",
    "| 2.75 | 41.65 | -2.82901631903 | 0.0 |\n",
    "| 3.0 | 46.55 | -2.82901631903 | 0.0 |\n",
    "| 3.25 | 51.45 | -2.82901631903 | 0.0 |\n",
    "| 3.5 | 56.35 | -2.82901631903 | 0.0 |"
   ]
  },
  {
   "cell_type": "code",
   "execution_count": 1,
   "metadata": {},
   "outputs": [
    {
     "name": "stdout",
     "output_type": "stream",
     "text": [
      "(0.0, 0, 0.0, 0.0)\n",
      "(0.25, 0.0, 0.0, 19.6)\n",
      "(0.5, 1.225, 0.0, 19.6)\n",
      "(0.75, 3.6750000000000003, 0.0, 19.6)\n",
      "(1.0, 7.3500000000000005, 0.0, 19.6)\n",
      "(1.25, 12.25, 0.0, 0.0)\n",
      "(1.5, 17.15, -2.8290163190291664, 0.0)\n",
      "(1.75, 22.049999999999997, -2.8290163190291664, 0.0)\n",
      "(2.0, 26.949999999999996, -2.8290163190291664, 0.0)\n",
      "(2.25, 31.849999999999994, -2.8290163190291664, 0.0)\n",
      "(2.5, 36.74999999999999, -2.8290163190291664, 0.0)\n",
      "(2.75, 41.64999999999999, -2.8290163190291664, 0.0)\n",
      "(3.0, 46.54999999999999, -2.8290163190291664, 0.0)\n",
      "(3.25, 51.44999999999999, -2.8290163190291664, 0.0)\n",
      "(3.5, 56.34999999999999, -2.8290163190291664, 0.0)\n"
     ]
    }
   ],
   "source": [
    "from helpers import process_data\n",
    "%matplotlib inline\n",
    "\n",
    "data_list = process_data(\"trajectory_example.pickle\")\n",
    "\n",
    "for entry in data_list:\n",
    "    print(entry)"
   ]
  },
  {
   "cell_type": "markdown",
   "metadata": {},
   "source": [
    "To solve:\n",
    "```python\n",
    "def get_speeds(data_list):\n",
    "    return \n",
    "\n",
    "def get_headings(data_list):\n",
    "    return \n",
    "\n",
    "def get_x_y(data_list):\n",
    "    return\n",
    "\n",
    "def show_x_y(data_list):\n",
    "    return\n",
    "```\n",
    "## get_speeds\n",
    "\n",
    "First let us focus on ```get_speeds```. We have displacement in data set. So if we differentiate at, every $ \\Delta t$, we get speed at that instant. Below is our differentiation snippet we already have from previous section (Implement an Accelerometer). Let us try that out\n",
    "```python\n",
    "def get_derivative_from_data(position_data, time_data):\n",
    "    \n",
    "    if (len(position_data) != len(time_data)):\n",
    "        raise ValueError('Arguments length not matching')\n",
    "        \n",
    "    prev_pos = position_data[0]\n",
    "    prev_tim = time_data[0]\n",
    "    \n",
    "    slopes = []\n",
    "    \n",
    "    for i in range(1,len(position_data)):\n",
    "        \n",
    "        curr_pos = position_data[i]\n",
    "        curr_tim = time_data[i]\n",
    "        \n",
    "        delta_pos = curr_pos - prev_pos\n",
    "        delta_tim = curr_tim - prev_tim\n",
    "        \n",
    "        slope = delta_pos/delta_tim\n",
    "        \n",
    "        slopes.append(slope)\n",
    "        \n",
    "        prev_pos = curr_pos\n",
    "        prev_tim = curr_tim\n",
    "    \n",
    "    return slopes\n",
    "```"
   ]
  },
  {
   "cell_type": "code",
   "execution_count": 2,
   "metadata": {},
   "outputs": [
    {
     "name": "stdout",
     "output_type": "stream",
     "text": [
      "0\n",
      "0.0\n",
      "4.9\n",
      "9.8\n",
      "14.700000000000001\n",
      "19.599999999999998\n",
      "19.599999999999994\n",
      "19.599999999999994\n",
      "19.599999999999994\n",
      "19.599999999999994\n",
      "19.599999999999994\n",
      "19.599999999999994\n",
      "19.599999999999994\n",
      "19.599999999999994\n",
      "19.599999999999994\n"
     ]
    }
   ],
   "source": [
    "def get_derivative_from_data(position_data, time_data):\n",
    "    \n",
    "    if (len(position_data) != len(time_data)):\n",
    "        raise ValueError('Arguments length not matching')\n",
    "        \n",
    "    prev_pos = position_data[0]\n",
    "    prev_tim = time_data[0]\n",
    "    \n",
    "    slopes = [0]  # assuming initial speed as zero\n",
    "    \n",
    "    for i in range(1,len(position_data)):\n",
    "        \n",
    "        curr_pos = position_data[i]\n",
    "        curr_tim = time_data[i]\n",
    "        \n",
    "        delta_pos = curr_pos - prev_pos\n",
    "        delta_tim = curr_tim - prev_tim\n",
    "        \n",
    "        slope = delta_pos/delta_tim\n",
    "        \n",
    "        slopes.append(slope)\n",
    "        \n",
    "        prev_pos = curr_pos\n",
    "        prev_tim = curr_tim\n",
    "    \n",
    "    return slopes\n",
    "\n",
    "def get_speeds(data_list):\n",
    "    \n",
    "    t = [row[0] for row in data_list]  # time 't'\n",
    "    z = [row[1] for row in data_list]  # displacement at 't'\n",
    "    \n",
    "    return get_derivative_from_data(z,t)\n",
    "\n",
    "v = get_speeds(data_list)\n",
    "\n",
    "#checking\n",
    "for each_speed in v:\n",
    "    print(each_speed)"
   ]
  },
  {
   "cell_type": "markdown",
   "metadata": {},
   "source": [
    "Let us test it out using Udacity's test cases"
   ]
  },
  {
   "cell_type": "code",
   "execution_count": 3,
   "metadata": {},
   "outputs": [
    {
     "name": "stdout",
     "output_type": "stream",
     "text": [
      "PASSED test of get_speeds function!\n"
     ]
    }
   ],
   "source": [
    "from testing import test_get_speeds \n",
    "\n",
    "test_get_speeds(get_speeds)"
   ]
  },
  {
   "cell_type": "markdown",
   "metadata": {},
   "source": [
    "Cool. It seems to work!"
   ]
  },
  {
   "cell_type": "markdown",
   "metadata": {},
   "source": [
    "## get_headings\n",
    "\n",
    "Headings is about angle. We have ```yaw_rate``` which is $ \\displaystyle \\frac{{d\\theta }}{{dt}}$  \n",
    "\n",
    "Integrating it over any $\\Delta t$, should give us $\\theta$ on that interval. We did integration as well earlier in \"Integrating Rate Gyro Data\". Below is the snippet. \n",
    "\n",
    "```python\n",
    "def get_integral_from_data(data, times):\n",
    "\n",
    "    if (len(data) != len(times)):\n",
    "        raise ValueError(\"Arguments must be of equal length\")\n",
    "        \n",
    "    total_area = 0    \n",
    "    area_trace = []   # we need to generate a list of cumulative area sums till any instant\n",
    "    \n",
    "    prev_tim = times[0]\n",
    "    for i in range(1, len(times)):\n",
    "        \n",
    "        curr_tim = times[i]\n",
    "        \n",
    "        delta_t = curr_tim - prev_tim\n",
    "        delta_x = data[i]  # its just the height, as rectangle, same at both curr and prev instances\n",
    "        \n",
    "        area = delta_t * delta_x\n",
    "        \n",
    "        total_area += area\n",
    "        \n",
    "        prev_tim = curr_tim\n",
    "        \n",
    "        area_trace.append(total_area)\n",
    "            \n",
    "    return area_trace\n",
    "```"
   ]
  },
  {
   "cell_type": "code",
   "execution_count": 4,
   "metadata": {},
   "outputs": [
    {
     "name": "stdout",
     "output_type": "stream",
     "text": [
      "0\n",
      "0.0\n",
      "0.0\n",
      "0.0\n",
      "0.0\n",
      "0.0\n",
      "-0.7072540797572916\n",
      "-1.4145081595145832\n",
      "-2.1217622392718747\n",
      "-2.8290163190291664\n",
      "-3.536270398786458\n",
      "-4.243524478543749\n",
      "-4.950778558301041\n",
      "-5.658032638058332\n",
      "-6.365286717815623\n"
     ]
    }
   ],
   "source": [
    "def get_integral_from_data(data, times):\n",
    "    # TODO - write integration code!\n",
    "\n",
    "    if (len(data) != len(times)):\n",
    "        raise ValueError(\"Arguments must be of equal length\")\n",
    "        \n",
    "    total_area = 0    \n",
    "    area_trace = [0]   # we need to generate a list of cumulative area sums till any instant\n",
    "    \n",
    "    prev_tim = times[0]\n",
    "    for i in range(1, len(times)):\n",
    "        \n",
    "        curr_tim = times[i]\n",
    "        \n",
    "        delta_t = curr_tim - prev_tim\n",
    "        delta_x = data[i]  # its just the height, as rectangle, same at both curr and prev instances\n",
    "        \n",
    "        area = delta_t * delta_x\n",
    "        \n",
    "        total_area += area\n",
    "        \n",
    "        prev_tim = curr_tim\n",
    "        \n",
    "        area_trace.append(total_area)\n",
    "            \n",
    "    return area_trace\n",
    "\n",
    "def get_headings(data_list):\n",
    "    \n",
    "    t = [row[0] for row in data_list]  # time 't'\n",
    "    y = [row[2] for row in data_list]  # yaw rate at 't'    \n",
    "    \n",
    "    return get_integral_from_data(y,t)\n",
    "\n",
    "y = get_headings(data_list)\n",
    "\n",
    "#checking\n",
    "for each_yaw in y:\n",
    "    print(each_yaw)"
   ]
  },
  {
   "cell_type": "markdown",
   "metadata": {},
   "source": [
    "Let us test it out using Udacity's test cases"
   ]
  },
  {
   "cell_type": "code",
   "execution_count": 5,
   "metadata": {},
   "outputs": [
    {
     "name": "stdout",
     "output_type": "stream",
     "text": [
      "PASSED test of get_headings function!\n"
     ]
    }
   ],
   "source": [
    "from testing import test_get_headings\n",
    "\n",
    "test_get_headings(get_headings)"
   ]
  },
  {
   "cell_type": "markdown",
   "metadata": {},
   "source": [
    "Cool, that works too!"
   ]
  },
  {
   "cell_type": "markdown",
   "metadata": {},
   "source": [
    "## get_x_y\n",
    "\n",
    "Hmm. This looks tricky. At every t, we have position, and yaw (derived just now). What if we drive using ```Vehicle``` class we implemented earlier, and get that class's X and Y? Below is our Vehicle class, and I have added additional ```get_trajectory``` to get the history, to cross check if our answer is correct."
   ]
  },
  {
   "cell_type": "code",
   "execution_count": 6,
   "metadata": {},
   "outputs": [],
   "source": [
    "import numpy as np\n",
    "from math import sin, cos, pi\n",
    "from matplotlib import pyplot as plt\n",
    "\n",
    "class Vehicle:\n",
    "    def __init__(self):\n",
    "        self.x       = 0.0 # meters\n",
    "        self.y       = 0.0\n",
    "        self.heading = 0.0 # radians\n",
    "        self.history = []\n",
    "        \n",
    "    def drive_forward(self, displacement):\n",
    "        \"\"\"\n",
    "        Updates x and y coordinates of vehicle based on \n",
    "        heading and appends previous (x,y) position to\n",
    "        history.\n",
    "        \"\"\"\n",
    "        self.history.append((self.x, self.y))\n",
    "        self.x += displacement * cos(self.heading)\n",
    "        self.y += displacement * sin(self.heading)\n",
    "    \n",
    "    def set_heading(self, heading_in_degrees):\n",
    "        \"\"\"\n",
    "        Sets the current heading (in radians) to a new value\n",
    "        based on heading_in_degrees. Vehicle heading is always\n",
    "        between 0 and 2 * pi.\n",
    "        \"\"\"\n",
    "        heading_in_degrees = heading_in_degrees % 360 # just to be sure its always within 360\n",
    "        self.heading = heading_in_degrees*pi/180\n",
    "    \n",
    "    def turn(self, angle_in_degrees):\n",
    "        \"\"\"\n",
    "        Changes the vehicle's heading by angle_in_degrees. Vehicle \n",
    "        heading is always between 0 and 2 * pi.\n",
    "        \"\"\"\n",
    "        self.heading += angle_in_degrees*pi/180\n",
    "    \n",
    "    def show_trajectory(self):\n",
    "        \"\"\"\n",
    "        Creates a scatter plot of vehicle's trajectory.\n",
    "        \"\"\"\n",
    "        X = [row[0] for row in self.history]\n",
    "        Y = [row[1] for row in self.history]\n",
    "        \n",
    "        # DO NOT FORGET TO INCLUDE CURRENT POSITION AS WELL\n",
    "        X.append(self.x)\n",
    "        Y.append(self.y)        \n",
    "        \n",
    "        plt.scatter(X,Y)\n",
    "        plt.plot(X,Y)\n",
    "        plt.show()\n",
    "        \n",
    "    def get_trajectory(self):\n",
    "        \"\"\"\n",
    "        returns vehicle's trajectory.\n",
    "        \"\"\"\n",
    "        X = [row[0] for row in self.history]\n",
    "        Y = [row[1] for row in self.history]\n",
    "        \n",
    "        # DO NOT FORGET TO INCLUDE CURRENT POSITION AS WELL\n",
    "        X.append(self.x)\n",
    "        Y.append(self.y)        \n",
    "        \n",
    "        return zip(X,Y)"
   ]
  },
  {
   "attachments": {
    "image.png": {
     "image/png": "[encoded data removed]"
    }
   },
   "cell_type": "markdown",
   "metadata": {},
   "source": [
    "Before we drive(?!), let us recap our data set, along with derived ones as well (speed and yaw). \n",
    "\n",
    "| timestamp | displacement | speed | yaw_rate     | yaw          | acceleration |\n",
    "|-----------|--------------|-------|--------------|--------------|--------------|\n",
    "| 0         | 0            | 0     | 0            | 0            | 0            |\n",
    "| 0.25      | 0            | 0     | 0            | 0            | 19.6         |\n",
    "| 0.5       | 1.225        | 4.9   | 0            | 0            | 19.6         |\n",
    "| 0.75      | 3.675        | 9.8   | 0            | 0            | 19.6         |\n",
    "| 1         | 7.35         | 14.7  | 0            | 0            | 19.6         |\n",
    "| 1.25      | 12.25        | 19.6  | 0            | 0            | 0            |\n",
    "| 1.5       | 17.15        | 19.6  | -2.829016319 | -0.70725408  | 0            |\n",
    "| 1.75      | 22.05        | 19.6  | -2.829016319 | -1.41450816  | 0            |\n",
    "| 2         | 26.95        | 19.6  | -2.829016319 | -2.121762239 | 0            |\n",
    "| 2.25      | 31.85        | 19.6  | -2.829016319 | -2.829016319 | 0            |\n",
    "| 2.5       | 36.75        | 19.6  | -2.829016319 | -3.536270399 | 0            |\n",
    "| 2.75      | 41.65        | 19.6  | -2.829016319 | -4.243524479 | 0            |\n",
    "| 3         | 46.55        | 19.6  | -2.829016319 | -4.950778558 | 0            |\n",
    "| 3.25      | 51.45        | 19.6  | -2.829016319 | -5.658032638 | 0            |\n",
    "| 3.5       | 56.35        | 19.6  | -2.829016319 | -6.365286718 | 0            |\n",
    "\n",
    "Thank you [thisdavej](http://thisdavej.com/copy-table-in-excel-and-paste-as-a-markdown-table/) for excel to markdown conversion.  \n",
    "\n",
    "<u>Question:</u> Can we take the displacement and yaw values from above, \"drive\" the Vehicle and get desired result? Let us check out. Note, our yaw is in radians, but ```Vehicle``` needs degrees, so we convert on the fly, by multiplying with ```(180/pi)```.\n",
    "\n",
    "<pre>\n",
    "At every time instant\n",
    "    1. drive forward as per observed <b>displacement</b> value at that instant\n",
    "    2. turn as per <b>yaw</b> value at that instant\n",
    "</pre>\n",
    "\n",
    "We might be one time stamp lagging, because at any instant, vehicle is already displaced by displacement value at that instant, but we are only displacing at that instant, which means resultant location is only at next instant. Still, let us see if it gives any useful result. For reference, expected result is as below (arrow viz later)\n",
    "\n",
    "**Expected result:**\n",
    "![image.png](attachment:image.png)"
   ]
  },
  {
   "cell_type": "code",
   "execution_count": 7,
   "metadata": {},
   "outputs": [
    {
     "data": {
      "image/png": "[encoded data removed]",
      "text/plain": [
       "<Figure size 432x288 with 1 Axes>"
      ]
     },
     "metadata": {},
     "output_type": "display_data"
    }
   ],
   "source": [
    "data_list = process_data(\"trajectory_example.pickle\")    \n",
    "t = [row[0] for row in data_list]\n",
    "z = [row[1] for row in data_list]\n",
    "yr = get_headings(data_list)\n",
    "\n",
    "v = Vehicle()\n",
    "for each_time_index in range(len(t)-1):    \n",
    "    v.drive_forward(z[each_time_index])    \n",
    "    v.turn(yr[each_time_index]*(180/pi))\n",
    "\n",
    "X_Y = list(v.get_trajectory())\n",
    "X = [row[0] for row in X_Y]\n",
    "Y = [row[1] for row in X_Y]\n",
    "plt.scatter(X,Y)\n",
    "plt.plot(X,Y)\n",
    "plt.show()"
   ]
  },
  {
   "cell_type": "markdown",
   "metadata": {},
   "source": [
    "It started somewhere like reference, but then \"drove\" like a drunk person?! What went wrong? \n",
    "\n",
    "### Correction 1:\n",
    "\n",
    "Note the yaw value we obtained is, from absolute frame of reference. Or in other words, its already cumulative from frame of reference. With ```turn``` command, we only **add** to the existing anle of the car. Instead, we should **set** the angle of the car at any instant. Let us try with that now. "
   ]
  },
  {
   "cell_type": "code",
   "execution_count": 8,
   "metadata": {},
   "outputs": [
    {
     "data": {
      "image/png": "[encoded data removed]",
      "text/plain": [
       "<Figure size 432x288 with 1 Axes>"
      ]
     },
     "metadata": {},
     "output_type": "display_data"
    }
   ],
   "source": [
    "data_list = process_data(\"trajectory_example.pickle\")    \n",
    "t = [row[0] for row in data_list]\n",
    "z = [row[1] for row in data_list]\n",
    "yr = get_headings(data_list)\n",
    "\n",
    "v = Vehicle()\n",
    "for each_time_index in range(len(t)-1):    \n",
    "    v.drive_forward(z[each_time_index])    \n",
    "    v.set_heading(yr[each_time_index]*(180/pi))  # at every instant,we \"set\" angle caz its already cumulative\n",
    "\n",
    "X_Y = list(v.get_trajectory())\n",
    "X = [row[0] for row in X_Y]\n",
    "Y = [row[1] for row in X_Y]\n",
    "plt.scatter(X,Y)\n",
    "plt.plot(X,Y)\n",
    "plt.show()"
   ]
  },
  {
   "cell_type": "markdown",
   "metadata": {},
   "source": [
    "Now it looks far better! Still, it is not yet similar to our reference. What still is going wrong? \n",
    "\n",
    "### Correction 2:\n",
    "\n",
    "The original displacement value is also cumulative, or referenced from the beginning. It is not delta displacement between an instant and its previous instant. But what we feed ```Vehicle```, when we drive forward is relative displacement from its current position at any instant.  \n",
    "\n",
    "So  we need to create another list, with relative displacement and feed that. Let us try it out."
   ]
  },
  {
   "cell_type": "code",
   "execution_count": 9,
   "metadata": {},
   "outputs": [
    {
     "data": {
      "image/png": "[encoded data removed]",
      "text/plain": [
       "<Figure size 432x288 with 1 Axes>"
      ]
     },
     "metadata": {},
     "output_type": "display_data"
    }
   ],
   "source": [
    "data_list = process_data(\"trajectory_example.pickle\")    \n",
    "t = [row[0] for row in data_list]\n",
    "z = [row[1] for row in data_list]\n",
    "yr = get_headings(data_list)\n",
    "\n",
    "# relative displacement derivation\n",
    "rel_z = [0]\n",
    "for i in range(1,len(data_list)):\n",
    "    delta_z = data_list[i][1]-data_list[i-1][1]\n",
    "    rel_z.append(delta_z)\n",
    "\n",
    "v = Vehicle()\n",
    "for each_time_index in range(len(t)):\n",
    "    v.drive_forward(rel_z[each_time_index])      # feeding relative displacement now..\n",
    "    v.set_heading(yr[each_time_index]*(180/pi))    \n",
    "\n",
    "X_Y = list(v.get_trajectory())\n",
    "X = [row[0] for row in X_Y]\n",
    "Y = [row[1] for row in X_Y]\n",
    "plt.scatter(X,Y)\n",
    "plt.plot(X,Y)\n",
    "plt.show()"
   ]
  },
  {
   "cell_type": "markdown",
   "metadata": {},
   "source": [
    "Now this looks way similar to our reference. Check out the comparision below. \n",
    "<div style='display:flex'>\n",
    "    <div><img src='https://s15.postimg.cc/vzb66yu0r/image.png'></div><pre>    </pre>    \n",
    "    <div><img src='https://s15.postimg.cc/pmw0wqdzf/image.png'></div>\n",
    "</div>"
   ]
  },
  {
   "cell_type": "markdown",
   "metadata": {},
   "source": [
    "<font color='red'>Note:</font> If you observe both above visualizations, you might notice few points differ, though overall the shape resembles solution. In fact it differs a little. But its close enough, good enough that Udacity tests score them as pass. \n",
    "\n",
    "Let us wrap our current solution under get_x_y and run Udacity's test."
   ]
  },
  {
   "cell_type": "code",
   "execution_count": 10,
   "metadata": {},
   "outputs": [
    {
     "name": "stdout",
     "output_type": "stream",
     "text": [
      "PASSED test of get_x_y function!\n"
     ]
    }
   ],
   "source": [
    "from helpers import process_data\n",
    "from testing import test_get_x_y\n",
    "import solution\n",
    "\n",
    "data_list = process_data(\"trajectory_example.pickle\")    \n",
    "\n",
    "def get_x_y(data_list):\n",
    "    \n",
    "    t = [row[0] for row in data_list]\n",
    "    z = [row[1] for row in data_list]\n",
    "    yr = get_headings(data_list)\n",
    "\n",
    "    # relative displacement derivation\n",
    "    rel_z = [0]\n",
    "    for i in range(1,len(data_list)):\n",
    "        delta_z = data_list[i][1]-data_list[i-1][1]\n",
    "        rel_z.append(delta_z)\n",
    "\n",
    "    # create our vehicle for test drive to generate X,Y\n",
    "    v = Vehicle()    \n",
    "    \n",
    "    for each_time_index in range(len(t)):\n",
    "        v.drive_forward(rel_z[each_time_index])      # feeding relative displacement now..        \n",
    "        v.set_heading(yr[each_time_index]*(180/pi))    \n",
    "        \n",
    "    X_Y = v.get_trajectory()\n",
    "    return list(X_Y)[1:]\n",
    "\n",
    "X_Y = get_x_y(data_list)\n",
    "#print('Our solution: ')\n",
    "#[print(row[0],'\\t',row[1]) for row in X_Y]\n",
    "#print('Udacity solution: ')\n",
    "#[print(row[0],'\\t',row[1]) for row in solution.get_x_y(data_list)]\n",
    "test_get_x_y(get_x_y)"
   ]
  },
  {
   "cell_type": "markdown",
   "metadata": {},
   "source": [
    "Cool. Looks like our code works!\n",
    "\n",
    "Let us wrap all above solutions in an external file, and reference that, to modularize our implementation. I have moved the helper functions and vehicle classes to [solution_parthi2929.py](https://gist.github.com/parthi2929/199c3f8b11a7960ca3f29fb457f11152). Now our  simplified implementation looks like below. "
   ]
  },
  {
   "cell_type": "code",
   "execution_count": 11,
   "metadata": {},
   "outputs": [],
   "source": [
    "from solution_parthi2929 import Vehicle, get_derivative_from_data, get_integral_from_data\n",
    "from math import pi\n",
    "\n",
    "def get_speeds(data_list):\n",
    "    t = [row[0] for row in data_list]  # time 't'\n",
    "    z = [row[1] for row in data_list]  # displacement at 't'    \n",
    "    return get_derivative_from_data(z,t)\n",
    "\n",
    "def get_headings(data_list):\n",
    "    t = [row[0] for row in data_list]  # time 't'\n",
    "    y = [row[2] for row in data_list]  # yaw rate at 't'        \n",
    "    return get_integral_from_data(y,t)\n",
    "\n",
    "def get_x_y(data_list):\n",
    "    t = [row[0] for row in data_list]\n",
    "    z = [row[1] for row in data_list]\n",
    "    yr = get_headings(data_list)\n",
    "\n",
    "    # relative displacement derivation\n",
    "    rel_z = [0]\n",
    "    for i in range(1,len(data_list)):\n",
    "        delta_z = data_list[i][1]-data_list[i-1][1]\n",
    "        rel_z.append(delta_z)\n",
    "\n",
    "    # create our vehicle for test drive to generate X,Y\n",
    "    v = Vehicle()    \n",
    "    \n",
    "    for each_time_index in range(len(t)):\n",
    "        v.drive_forward(rel_z[each_time_index])      # feeding relative displacement now..        \n",
    "        v.set_heading(yr[each_time_index]*(180/pi))    \n",
    "        \n",
    "    X_Y = v.get_trajectory()\n",
    "    return list(X_Y)[1:]\n",
    "\n",
    "def show_x_y(data_list):\n",
    "    return"
   ]
  },
  {
   "cell_type": "code",
   "execution_count": 12,
   "metadata": {},
   "outputs": [
    {
     "name": "stdout",
     "output_type": "stream",
     "text": [
      "PASSED test of get_speeds function!\n"
     ]
    }
   ],
   "source": [
    "from testing import test_get_speeds, test_get_x_y, test_get_headings\n",
    "\n",
    "test_get_speeds(get_speeds)"
   ]
  },
  {
   "cell_type": "code",
   "execution_count": 13,
   "metadata": {},
   "outputs": [
    {
     "name": "stdout",
     "output_type": "stream",
     "text": [
      "PASSED test of get_x_y function!\n"
     ]
    }
   ],
   "source": [
    "test_get_x_y(get_x_y)"
   ]
  },
  {
   "cell_type": "code",
   "execution_count": 14,
   "metadata": {},
   "outputs": [
    {
     "name": "stdout",
     "output_type": "stream",
     "text": [
      "PASSED test of get_headings function!\n"
     ]
    }
   ],
   "source": [
    "test_get_headings(get_headings)"
   ]
  },
  {
   "cell_type": "markdown",
   "metadata": {},
   "source": [
    "Great. Let us next focus on improvising our visualization (arrows or vector graph) in next section. "
   ]
  },
  {
   "cell_type": "markdown",
   "metadata": {},
   "source": [
    "**Note:** It is possible, that we extract functionalities of Vehicle, instead of \"driving it\" to find out X and Y. That is what also done in Udacity. I wanted to show implementation re using already familiarized code snippets in earlier sections. Once we know what we know now, its easy to extract our driving as a function itself (instead of driving, just update X, Y, angle in series accordingly). "
   ]
  },
  {
   "cell_type": "code",
   "execution_count": null,
   "metadata": {},
   "outputs": [],
   "source": []
  }
 ],
 "metadata": {
  "kernelspec": {
   "display_name": "Python 3",
   "language": "python",
   "name": "python3"
  },
  "language_info": {
   "codemirror_mode": {
    "name": "ipython",
    "version": 3
   },
   "file_extension": ".py",
   "mimetype": "text/x-python",
   "name": "python",
   "nbconvert_exporter": "python",
   "pygments_lexer": "ipython3",
   "version": "3.6.3"
  }
 },
 "nbformat": 4,
 "nbformat_minor": 2
}
