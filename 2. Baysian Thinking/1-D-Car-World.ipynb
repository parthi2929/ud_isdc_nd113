{
 "cells": [
  {
   "cell_type": "code",
   "execution_count": 5,
   "metadata": {},
   "outputs": [
    {
     "data": {
      "image/png": "[encoded data removed]",
      "text/plain": [
       "<Figure size 432x288 with 1 Axes>"
      ]
     },
     "metadata": {},
     "output_type": "display_data"
    }
   ],
   "source": [
    "import matplotlib.pyplot as plt\n",
    "%matplotlib inline\n",
    "\n",
    "import numpy as np\n",
    "\n",
    "def initialize_robot(grid_size):\n",
    "    \"\"\"\n",
    "    returns a list containing the initial probability for each space on the grid\n",
    "    \"\"\"\n",
    "    initial_probability = 1/grid_size    \n",
    "    return [initial_probability]*grid_size\n",
    "\n",
    "def grid_probability(grid, position):\n",
    "    \"\"\"\n",
    "    outputs the probability that the robot is at a specific point on the grid\n",
    "    \"\"\"\n",
    "    if(position < len(grid)):\n",
    "        return grid[position]\n",
    "    else:\n",
    "        return None\n",
    "\n",
    "def output_map(grid):\n",
    "    \"\"\"\n",
    "    outputs a bar chart showing the probabilities of each grid space\n",
    "    \"\"\"\n",
    "    x_labels = []\n",
    "    for index in range(len(grid)):\n",
    "        x_labels.append(index)\n",
    "    \n",
    "    plt.bar(x_labels, grid)\n",
    " \n",
    "    # Create names on the axes\n",
    "    plt.title('Probability of the robot being at each space on the grid')\n",
    "    plt.xlabel('Grid Space')\n",
    "    plt.ylabel('Probability')\n",
    "\n",
    "    # Show graphic\n",
    "    plt.show()\n",
    "\n",
    "output_map([.2, .2, .2, .2, .2])"
   ]
  },
  {
   "cell_type": "code",
   "execution_count": null,
   "metadata": {},
   "outputs": [],
   "source": []
  }
 ],
 "metadata": {
  "kernelspec": {
   "display_name": "Python 3",
   "language": "python",
   "name": "python3"
  },
  "language_info": {
   "codemirror_mode": {
    "name": "ipython",
    "version": 3
   },
   "file_extension": ".py",
   "mimetype": "text/x-python",
   "name": "python",
   "nbconvert_exporter": "python",
   "pygments_lexer": "ipython3",
   "version": "3.6.4"
  }
 },
 "nbformat": 4,
 "nbformat_minor": 2
}
