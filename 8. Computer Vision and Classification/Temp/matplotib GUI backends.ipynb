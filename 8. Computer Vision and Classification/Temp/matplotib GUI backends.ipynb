{
 "cells": [
  {
   "cell_type": "markdown",
   "metadata": {},
   "source": [
    "REf: https://stackoverflow.com/questions/3285193/how-to-switch-backends-in-matplotlib-python"
   ]
  },
  {
   "cell_type": "code",
   "execution_count": 1,
   "metadata": {},
   "outputs": [
    {
     "name": "stdout",
     "output_type": "stream",
     "text": [
      "testing TKAgg\n",
      "Using: TkAgg\n"
     ]
    }
   ],
   "source": [
    "import matplotlib\n",
    "gui_env = ['TKAgg','GTKAgg','Qt4Agg','WXAgg']\n",
    "for gui in gui_env:\n",
    "    try:\n",
    "        print(\"testing\", gui)\n",
    "        matplotlib.use(gui,warn=False, force=True)\n",
    "        from matplotlib import pyplot as plt\n",
    "        break\n",
    "    except:\n",
    "        continue\n",
    "print(\"Using:\",matplotlib.get_backend())"
   ]
  },
  {
   "cell_type": "code",
   "execution_count": 2,
   "metadata": {},
   "outputs": [
    {
     "name": "stdout",
     "output_type": "stream",
     "text": [
      "Switched to: WXAgg\n"
     ]
    }
   ],
   "source": [
    "matplotlib.use('WXAgg',warn=False, force=True)\n",
    "from matplotlib import pyplot as plt\n",
    "print(\"Switched to:\",matplotlib.get_backend())"
   ]
  },
  {
   "cell_type": "code",
   "execution_count": null,
   "metadata": {},
   "outputs": [
    {
     "name": "stdout",
     "output_type": "stream",
     "text": [
      "Non Gui backends are: ['agg', 'cairo', 'gdk', 'pdf', 'pgf', 'ps', 'svg', 'template']\n",
      "Gui backends I will test for ['GTK', 'GTKAgg', 'GTKCairo', 'MacOSX', 'Qt4Agg', 'Qt5Agg', 'TkAgg', 'WX', 'WXAgg', 'GTK3Cairo', 'GTK3Agg', 'WebAgg', 'nbAgg']\n",
      "testing GTK\n",
      "     GTK Is Available\n"
     ]
    }
   ],
   "source": [
    "import matplotlib\n",
    "gui_env = [i for i in matplotlib.rcsetup.interactive_bk]\n",
    "non_gui_backends = matplotlib.rcsetup.non_interactive_bk\n",
    "print (\"Non Gui backends are:\", non_gui_backends)\n",
    "print (\"Gui backends I will test for\", gui_env)\n",
    "for gui in gui_env:\n",
    "    print (\"testing\", gui)\n",
    "    try:\n",
    "        matplotlib.use(gui,warn=False, force=True)\n",
    "        from matplotlib import pyplot as plt\n",
    "        print (\"    \",gui, \"Is Available\")\n",
    "        plt.plot([1.5,2.0,2.5])\n",
    "        fig = plt.gcf()\n",
    "        fig.suptitle(gui)\n",
    "        plt.show()\n",
    "        print (\"Using ..... \",matplotlib.get_backend())\n",
    "    except:\n",
    "        print (\"    \",gui, \"Not found\")"
   ]
  },
  {
   "cell_type": "code",
   "execution_count": null,
   "metadata": {},
   "outputs": [],
   "source": []
  }
 ],
 "metadata": {
  "kernelspec": {
   "display_name": "Python 3",
   "language": "python",
   "name": "python3"
  },
  "language_info": {
   "codemirror_mode": {
    "name": "ipython",
    "version": 3
   },
   "file_extension": ".py",
   "mimetype": "text/x-python",
   "name": "python",
   "nbconvert_exporter": "python",
   "pygments_lexer": "ipython3",
   "version": "3.6.4"
  }
 },
 "nbformat": 4,
 "nbformat_minor": 2
}
