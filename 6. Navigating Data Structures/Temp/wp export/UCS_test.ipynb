{
 "cells": [
  {
   "cell_type": "code",
   "execution_count": 12,
   "metadata": {},
   "outputs": [],
   "source": [
    "from queue import PriorityQueue\n",
    "q = PriorityQueue()"
   ]
  },
  {
   "cell_type": "code",
   "execution_count": 13,
   "metadata": {},
   "outputs": [
    {
     "data": {
      "text/plain": [
       "True"
      ]
     },
     "execution_count": 13,
     "metadata": {},
     "output_type": "execute_result"
    }
   ],
   "source": [
    "q.empty()"
   ]
  },
  {
   "cell_type": "code",
   "execution_count": 14,
   "metadata": {},
   "outputs": [],
   "source": [
    "q.put((3,'test3'))\n",
    "q.put((5,'test5'))\n",
    "q.put((1,'test1'))\n",
    "q.put((1,'test11'))\n",
    "q.put((float('inf'),'testinf'))"
   ]
  },
  {
   "cell_type": "code",
   "execution_count": 15,
   "metadata": {},
   "outputs": [
    {
     "data": {
      "text/plain": [
       "(1, 'test1')"
      ]
     },
     "execution_count": 15,
     "metadata": {},
     "output_type": "execute_result"
    }
   ],
   "source": [
    "q.empty()\n",
    "q.get()"
   ]
  },
  {
   "cell_type": "code",
   "execution_count": 16,
   "metadata": {},
   "outputs": [
    {
     "data": {
      "text/plain": [
       "(1, 'test11')"
      ]
     },
     "execution_count": 16,
     "metadata": {},
     "output_type": "execute_result"
    }
   ],
   "source": [
    "q.get()"
   ]
  },
  {
   "cell_type": "code",
   "execution_count": 17,
   "metadata": {},
   "outputs": [
    {
     "data": {
      "text/plain": [
       "(3, 'test3')"
      ]
     },
     "execution_count": 17,
     "metadata": {},
     "output_type": "execute_result"
    }
   ],
   "source": [
    "q.get()"
   ]
  },
  {
   "cell_type": "code",
   "execution_count": 18,
   "metadata": {},
   "outputs": [
    {
     "name": "stdout",
     "output_type": "stream",
     "text": [
      "(5, 'test5')\n",
      "(inf, 'testinf')\n"
     ]
    }
   ],
   "source": [
    "while not q.empty():\n",
    "    print(q.get())"
   ]
  },
  {
   "cell_type": "code",
   "execution_count": 54,
   "metadata": {},
   "outputs": [],
   "source": [
    "#storing above map info first as a dictionary..\n",
    "romania_nodes_map = {\n",
    "        'A': [(140,'S'), (118,'T'), (75,'Z')],\n",
    "        'S': [(99,'F'), (80,'RV')],\n",
    "        'T': [(111,'LU')],\n",
    "        'Z': [(71,'O')],\n",
    "        'F': [(211,'B')],\n",
    "        'B': [(90,'G'),(85,'U')],\n",
    "        'U':[(98,'H'),(142,'V')],\n",
    "        'V':[(92,'LA')],\n",
    "        'LA':[(87,'N')],\n",
    "        'RV':[(146,'C'),(97,'P')],\n",
    "        'LU':[(70,'M')],\n",
    "        'M':[(75,'D')],\n",
    "        'H':[(86,'E')]\n",
    "        }"
   ]
  },
  {
   "cell_type": "code",
   "execution_count": 55,
   "metadata": {},
   "outputs": [
    {
     "data": {
      "text/plain": [
       "[(0, 'A')]"
      ]
     },
     "execution_count": 55,
     "metadata": {},
     "output_type": "execute_result"
    }
   ],
   "source": [
    "q = PriorityQueue()\n",
    "start = 'A'\n",
    "goal = 'B'\n",
    "\n",
    "q.put((0,start))\n",
    "list(q.queue)"
   ]
  },
  {
   "cell_type": "code",
   "execution_count": 56,
   "metadata": {},
   "outputs": [
    {
     "data": {
      "text/plain": [
       "[(75, 'Z'), (140, 'S'), (118, 'T')]"
      ]
     },
     "execution_count": 56,
     "metadata": {},
     "output_type": "execute_result"
    }
   ],
   "source": [
    "current_cost, current_path = q.get()\n",
    "current_node = current_path[-1]\n",
    "\n",
    "#'A' is not 'B', so take kid nodes.\n",
    "for each_children in romania_nodes_map.get(current_node,[]):\n",
    "    q.put( (each_children[0]+current_cost, each_children[1]))\n",
    "\n",
    "list(q.queue)"
   ]
  },
  {
   "cell_type": "code",
   "execution_count": 57,
   "metadata": {},
   "outputs": [
    {
     "data": {
      "text/plain": [
       "[(118, 'T'), (140, 'S'), (146, 'O')]"
      ]
     },
     "execution_count": 57,
     "metadata": {},
     "output_type": "execute_result"
    }
   ],
   "source": [
    "current_cost, current_path = q.get()\n",
    "current_node = current_path[-1]\n",
    "\n",
    "#'A' is not 'B', so take kid nodes.\n",
    "for each_children in romania_nodes_map.get(current_node,[]):\n",
    "    q.put( (each_children[0]+current_cost, each_children[1]))\n",
    "\n",
    "list(q.queue)"
   ]
  },
  {
   "cell_type": "code",
   "execution_count": 58,
   "metadata": {},
   "outputs": [
    {
     "name": "stdout",
     "output_type": "stream",
     "text": [
      "[(140, 'S'), (146, 'O'), (229, 'LU')]\n",
      "[(146, 'O'), (220, 'RV'), (239, 'F'), (229, 'LU')]\n",
      "[(220, 'RV'), (229, 'LU'), (239, 'F')]\n",
      "[(229, 'LU'), (239, 'F'), (312, 'LA')]\n",
      "[(239, 'F'), (312, 'LA'), (327, 'H'), (371, 'V')]\n",
      "[(312, 'LA'), (371, 'V'), (327, 'H'), (450, 'B')]\n",
      "[(327, 'H'), (371, 'V'), (387, 'Z'), (452, 'S'), (430, 'T'), (450, 'B')]\n",
      "[(371, 'V'), (430, 'T'), (387, 'Z'), (452, 'S'), (450, 'B'), (413, 'E')]\n",
      "[(387, 'Z'), (430, 'T'), (413, 'E'), (452, 'S'), (450, 'B'), (463, 'LA')]\n",
      "[(413, 'E'), (430, 'T'), (458, 'O'), (452, 'S'), (450, 'B'), (463, 'LA')]\n",
      "[(430, 'T'), (450, 'B'), (458, 'O'), (452, 'S'), (463, 'LA')]\n",
      "[(450, 'B'), (452, 'S'), (458, 'O'), (463, 'LA'), (541, 'LU')]\n",
      "450 B\n"
     ]
    }
   ],
   "source": [
    "while not q.empty():\n",
    "    current_cost, current_path = q.get()\n",
    "    current_node = current_path[-1]\n",
    "    \n",
    "    if (current_node == 'B'):\n",
    "        break\n",
    "\n",
    "    #'A' is not 'B', so take kid nodes.\n",
    "    for each_children in romania_nodes_map.get(current_node,[]):\n",
    "        q.put( (each_children[0]+current_cost, each_children[1]))\n",
    "\n",
    "    print(list(q.queue))\n",
    "    \n",
    "print(current_cost, current_path)"
   ]
  },
  {
   "cell_type": "code",
   "execution_count": 80,
   "metadata": {},
   "outputs": [
    {
     "name": "stdout",
     "output_type": "stream",
     "text": [
      "450 B\n",
      "{'A': 'None', 'S': 'A', 'T': 'A', 'Z': 'A', 'O': 'Z', 'LU': 'T', 'F': 'S', 'RV': 'S', 'LA': 'V', 'H': 'U', 'V': 'U', 'B': 'F', 'E': 'H'}\n"
     ]
    }
   ],
   "source": [
    "#storing above map info first as a dictionary..\n",
    "romania_nodes_map = {\n",
    "        'A': [(140,'S'), (118,'T'), (75,'Z')],\n",
    "        'S': [(99,'F'), (80,'RV')],\n",
    "        'T': [(111,'LU')],\n",
    "        'Z': [(71,'O')],\n",
    "        'F': [(211,'B')],\n",
    "        'B': [(90,'G'),(85,'U')],\n",
    "        'U':[(98,'H'),(142,'V')],\n",
    "        'V':[(92,'LA')],\n",
    "        'LA':[(87,'N')],\n",
    "        'RV':[(146,'C'),(97,'P')],\n",
    "        'LU':[(70,'M')],\n",
    "        'M':[(75,'D')],\n",
    "        'H':[(86,'E')]\n",
    "        }\n",
    "\n",
    "#Initliaze q\n",
    "q = PriorityQueue()\n",
    "start = 'A'\n",
    "goal = 'B'\n",
    "q.put( (0, start) )\n",
    "cameFrom = {}\n",
    "cameFrom[start] = 'None'\n",
    "\n",
    "while not q.empty():\n",
    "    \n",
    "    # repeating logic\n",
    "    # 1. Take the path of least cost in q\n",
    "    current_cost, current_path = q.get()\n",
    "    current_node = current_path[-1]\n",
    "\n",
    "    # 2. Is it goal, if so break\n",
    "    if (current_node == goal):\n",
    "        break\n",
    "\n",
    "    # 3. If not, take each kid of current node, calculate total cost to that kid and kid's name in q\n",
    "    for each_kid in romania_nodes_map.get(current_node, []):\n",
    "        q.put( (current_cost + each_kid[0], each_kid[1]) )\n",
    "        cameFrom[each_kid[1]] = current_node\n",
    "           \n",
    "print(current_cost, current_node)\n",
    "print(cameFrom)"
   ]
  },
  {
   "cell_type": "code",
   "execution_count": 73,
   "metadata": {},
   "outputs": [
    {
     "data": {
      "text/plain": [
       "['F', 'S', 'A', 'None']"
      ]
     },
     "execution_count": 73,
     "metadata": {},
     "output_type": "execute_result"
    }
   ],
   "source": [
    "path = [current_node]\n",
    "\n",
    "current_node = cameFrom[current_node]\n",
    "path.append(current_node)\n",
    "\n",
    "current_node = cameFrom[current_node]\n",
    "path.append(current_node)\n",
    "\n",
    "current_node = cameFrom[current_node]\n",
    "path.append(current_node)\n",
    "\n",
    "path"
   ]
  },
  {
   "cell_type": "code",
   "execution_count": 81,
   "metadata": {},
   "outputs": [
    {
     "data": {
      "text/plain": [
       "['B', 'F', 'S', 'A']"
      ]
     },
     "execution_count": 81,
     "metadata": {},
     "output_type": "execute_result"
    }
   ],
   "source": [
    "path = [current_node]\n",
    "\n",
    "while not current_node == 'None':\n",
    "    current_node = cameFrom[current_node]\n",
    "    path.append(current_node)\n",
    "\n",
    "path[:-1]"
   ]
  },
  {
   "cell_type": "code",
   "execution_count": 84,
   "metadata": {},
   "outputs": [
    {
     "name": "stdout",
     "output_type": "stream",
     "text": [
      "['A', 'S', 'F', 'B']\n"
     ]
    }
   ],
   "source": [
    "#storing above map info first as a dictionary..\n",
    "romania_nodes_map = {\n",
    "        'A': [(140,'S'), (118,'T'), (75,'Z')],\n",
    "        'S': [(99,'F'), (80,'RV')],\n",
    "        'T': [(111,'LU')],\n",
    "        'Z': [(71,'O')],\n",
    "        'F': [(211,'B')],\n",
    "        'B': [(90,'G'),(85,'U')],\n",
    "        'U':[(98,'H'),(142,'V')],\n",
    "        'V':[(92,'LA')],\n",
    "        'LA':[(87,'N')],\n",
    "        'RV':[(146,'C'),(97,'P')],\n",
    "        'LU':[(70,'M')],\n",
    "        'M':[(75,'D')],\n",
    "        'H':[(86,'E')]\n",
    "        }\n",
    "\n",
    "#Initliaze q\n",
    "q = PriorityQueue()\n",
    "start = 'A'\n",
    "goal = 'B'\n",
    "q.put( (0, start) )\n",
    "cameFrom = {}\n",
    "cameFrom[start] = 'None'\n",
    "\n",
    "while not q.empty():\n",
    "    \n",
    "    # repeating logic\n",
    "    # 1. Take the path of least cost in q\n",
    "    current_cost, current_path = q.get()\n",
    "    current_node = current_path[-1]\n",
    "\n",
    "    # 2. Is it goal, if so break\n",
    "    if (current_node == goal):\n",
    "        break\n",
    "\n",
    "    # 3. If not, take each kid of current node, calculate total cost to that kid and kid's name in q\n",
    "    for each_kid in romania_nodes_map.get(current_node, []):\n",
    "        q.put( (current_cost + each_kid[0], each_kid[1]) )\n",
    "        cameFrom[each_kid[1]] = current_node\n",
    "           \n",
    "path = [current_node]\n",
    "\n",
    "while not current_node == 'None':\n",
    "    current_node = cameFrom[current_node]\n",
    "    path.append(current_node)\n",
    "\n",
    "print( [x for x in reversed(path[:-1])])"
   ]
  },
  {
   "cell_type": "code",
   "execution_count": 85,
   "metadata": {},
   "outputs": [
    {
     "name": "stdout",
     "output_type": "stream",
     "text": [
      "['A', 'S', 'F', 'B']\n"
     ]
    }
   ],
   "source": [
    "#storing above map info first as a dictionary..\n",
    "romania_nodes_map = {\n",
    "        'A': [(140,'S'), (118,'T'),(75,'Z')],\n",
    "        'S': [(99,'F'), (80,'RV'),(151,'O')],\n",
    "        'T': [(111,'LU')],\n",
    "        'Z': [(71,'O')],\n",
    "        'F': [(211,'B')],\n",
    "        'B': [(90,'G'),(85,'U')],\n",
    "        'U':[(98,'H'),(142,'V')],\n",
    "        'V':[(92,'LA')],\n",
    "        'LA':[(87,'N')],\n",
    "        'RV':[(146,'C'),(97,'P')],\n",
    "        'P':[(101,'B'),(138,'C')],\n",
    "        'LU':[(70,'M')],\n",
    "        'M':[(75,'D')],\n",
    "        'D':[(120,'C')],\n",
    "        'H':[(86,'E')]\n",
    "        }\n",
    "\n",
    "#storing above map info first as a dictionary..\n",
    "romania_nodes_map = {\n",
    "        'A': [(140,'S'), (118,'T'), (75,'Z')],\n",
    "        'S': [(99,'F'), (80,'RV')],\n",
    "        'T': [(111,'LU')],\n",
    "        'Z': [(71,'O')],\n",
    "        'F': [(211,'B')],\n",
    "        'B': [(90,'G'),(85,'U')],\n",
    "        'U':[(98,'H'),(142,'V')],\n",
    "        'V':[(92,'LA')],\n",
    "        'LA':[(87,'N')],\n",
    "        'RV':[(146,'C'),(97,'P')],\n",
    "        'LU':[(70,'M')],\n",
    "        'M':[(75,'D')],\n",
    "        'H':[(86,'E')]\n",
    "        }\n",
    "\n",
    "#Initliaze q\n",
    "q = PriorityQueue()\n",
    "start = 'A'\n",
    "goal = 'B'\n",
    "q.put( (0, start) )\n",
    "cameFrom = {}\n",
    "cameFrom[start] = 'None'\n",
    "closedSet = set()\n",
    "\n",
    "while not q.empty():\n",
    "    \n",
    "    # repeating logic\n",
    "    # 1. Take the path of least cost in q\n",
    "    current_cost, current_path = q.get()\n",
    "    current_node = current_path[-1]\n",
    "\n",
    "    # 2. Is it goal, if so break\n",
    "    if (current_node == goal):\n",
    "        break\n",
    "    else:\n",
    "        closedSet.add(current_node)\n",
    "\n",
    "    # 3. If not, take each kid of current node, calculate total cost to that kid and kid's name in q\n",
    "    for each_kid in romania_nodes_map.get(current_node, []):\n",
    "        q.put( (current_cost + each_kid[0], each_kid[1]) )\n",
    "        cameFrom[each_kid[1]] = current_node\n",
    "           \n",
    "path = [current_node]\n",
    "\n",
    "while not current_node == 'None':\n",
    "    current_node = cameFrom[current_node]\n",
    "    path.append(current_node)\n",
    "\n",
    "print( [x for x in reversed(path[:-1])])"
   ]
  },
  {
   "cell_type": "code",
   "execution_count": null,
   "metadata": {},
   "outputs": [],
   "source": []
  }
 ],
 "metadata": {
  "kernelspec": {
   "display_name": "Python 3",
   "language": "python",
   "name": "python3"
  },
  "language_info": {
   "codemirror_mode": {
    "name": "ipython",
    "version": 3
   },
   "file_extension": ".py",
   "mimetype": "text/x-python",
   "name": "python",
   "nbconvert_exporter": "python",
   "pygments_lexer": "ipython3",
   "version": "3.6.3"
  }
 },
 "nbformat": 4,
 "nbformat_minor": 2
}
