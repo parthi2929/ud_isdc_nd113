{
 "cells": [
  {
   "cell_type": "markdown",
   "metadata": {},
   "source": [
    "Play ground to learn to tweak and handle plotly.\n",
    "\n",
    "Reference: [here](https://plot.ly/python/ipython-notebook-tutorial/)"
   ]
  },
  {
   "cell_type": "code",
   "execution_count": 14,
   "metadata": {},
   "outputs": [
    {
     "data": {
      "text/html": [
       "<script>requirejs.config({paths: { 'plotly': ['https://cdn.plot.ly/plotly-latest.min']},});if(!window.Plotly) {{require(['plotly'],function(plotly) {window.Plotly=plotly;});}}</script>"
      ],
      "text/vnd.plotly.v1+html": [
       "<script>requirejs.config({paths: { 'plotly': ['https://cdn.plot.ly/plotly-latest.min']},});if(!window.Plotly) {{require(['plotly'],function(plotly) {window.Plotly=plotly;});}}</script>"
      ]
     },
     "metadata": {},
     "output_type": "display_data"
    },
    {
     "data": {
      "application/vnd.plotly.v1+json": {
       "data": [
        {
         "type": "scatter",
         "x": [
          1,
          2,
          3,
          4
         ],
         "y": [
          4,
          3,
          2,
          1
         ]
        }
       ],
       "layout": {
        "title": "hello world"
       }
      },
      "text/html": [
       "<div id=\"aa54b8f9-0e2c-45d7-84c4-81d2410a07ae\" style=\"height: 525px; width: 100%;\" class=\"plotly-graph-div\"></div><script type=\"text/javascript\">require([\"plotly\"], function(Plotly) { window.PLOTLYENV=window.PLOTLYENV || {};window.PLOTLYENV.BASE_URL=\"https://plot.ly\";Plotly.newPlot(\"aa54b8f9-0e2c-45d7-84c4-81d2410a07ae\", [{\"type\": \"scatter\", \"x\": [1, 2, 3, 4], \"y\": [4, 3, 2, 1]}], {\"title\": \"hello world\"}, {\"showLink\": true, \"linkText\": \"Export to plot.ly\"})});</script>"
      ],
      "text/vnd.plotly.v1+html": [
       "<div id=\"aa54b8f9-0e2c-45d7-84c4-81d2410a07ae\" style=\"height: 525px; width: 100%;\" class=\"plotly-graph-div\"></div><script type=\"text/javascript\">require([\"plotly\"], function(Plotly) { window.PLOTLYENV=window.PLOTLYENV || {};window.PLOTLYENV.BASE_URL=\"https://plot.ly\";Plotly.newPlot(\"aa54b8f9-0e2c-45d7-84c4-81d2410a07ae\", [{\"type\": \"scatter\", \"x\": [1, 2, 3, 4], \"y\": [4, 3, 2, 1]}], {\"title\": \"hello world\"}, {\"showLink\": true, \"linkText\": \"Export to plot.ly\"})});</script>"
      ]
     },
     "metadata": {},
     "output_type": "display_data"
    }
   ],
   "source": [
    "import plotly\n",
    "from plotly.graph_objs import Scatter, Layout\n",
    "\n",
    "plotly.offline.init_notebook_mode(connected=True) #This line is very important at beginning of notebook using plotly\n",
    "\n",
    "plotly.offline.iplot({\n",
    "    \"data\": [Scatter(x=[1, 2, 3, 4], y=[4, 3, 2, 1])],\n",
    "    \"layout\": Layout(title=\"hello world\")\n",
    "})"
   ]
  },
  {
   "cell_type": "markdown",
   "metadata": {},
   "source": [
    "Let us try to increase width of graph as it looks squeezed when ported to wordpres layout.."
   ]
  },
  {
   "cell_type": "code",
   "execution_count": 15,
   "metadata": {},
   "outputs": [
    {
     "data": {
      "application/vnd.plotly.v1+json": {
       "data": [
        {
         "type": "scatter",
         "x": [
          1,
          2,
          3,
          4
         ],
         "y": [
          4,
          3,
          2,
          1
         ]
        }
       ],
       "layout": {
        "autosize": true,
        "margin": {
         "b": 40,
         "l": 15,
         "pad": 4,
         "r": 15,
         "t": 40
        }
       }
      },
      "text/html": [
       "<div id=\"d077d8de-0d47-414e-9663-47d38f350b39\" style=\"height: 525px; width: 100%;\" class=\"plotly-graph-div\"></div><script type=\"text/javascript\">require([\"plotly\"], function(Plotly) { window.PLOTLYENV=window.PLOTLYENV || {};window.PLOTLYENV.BASE_URL=\"https://plot.ly\";Plotly.newPlot(\"d077d8de-0d47-414e-9663-47d38f350b39\", [{\"type\": \"scatter\", \"x\": [1, 2, 3, 4], \"y\": [4, 3, 2, 1]}], {\"autosize\": true, \"margin\": {\"l\": 15, \"r\": 15, \"b\": 40, \"t\": 40, \"pad\": 4}}, {\"showLink\": true, \"linkText\": \"Export to plot.ly\"})});</script>"
      ],
      "text/vnd.plotly.v1+html": [
       "<div id=\"d077d8de-0d47-414e-9663-47d38f350b39\" style=\"height: 525px; width: 100%;\" class=\"plotly-graph-div\"></div><script type=\"text/javascript\">require([\"plotly\"], function(Plotly) { window.PLOTLYENV=window.PLOTLYENV || {};window.PLOTLYENV.BASE_URL=\"https://plot.ly\";Plotly.newPlot(\"d077d8de-0d47-414e-9663-47d38f350b39\", [{\"type\": \"scatter\", \"x\": [1, 2, 3, 4], \"y\": [4, 3, 2, 1]}], {\"autosize\": true, \"margin\": {\"l\": 15, \"r\": 15, \"b\": 40, \"t\": 40, \"pad\": 4}}, {\"showLink\": true, \"linkText\": \"Export to plot.ly\"})});</script>"
      ]
     },
     "metadata": {},
     "output_type": "display_data"
    }
   ],
   "source": [
    "import plotly as py\n",
    "import plotly.graph_objs as go\n",
    "\n",
    "data = [\n",
    "    go.Scatter(x=[1, 2, 3, 4], y=[4, 3, 2, 1])\n",
    "]\n",
    "layout = go.Layout(\n",
    "    autosize=True,\n",
    "    margin=go.Margin(\n",
    "        l=15,\n",
    "        r=15,\n",
    "        b=40,\n",
    "        t=40,\n",
    "        pad=4\n",
    "    )\n",
    ")\n",
    "\n",
    "fig = go.Figure(data=data, layout=layout)\n",
    "py.offline.iplot(fig)"
   ]
  },
  {
   "cell_type": "markdown",
   "metadata": {},
   "source": [
    "Let us try to plot Udacity map now with Udacity plotly snippet slightly adapted to suit here."
   ]
  },
  {
   "cell_type": "code",
   "execution_count": 19,
   "metadata": {},
   "outputs": [
    {
     "data": {
      "application/vnd.plotly.v1+json": {
       "data": [
        {
         "hoverinfo": "none",
         "line": {
          "color": "#888",
          "width": 0.5
         },
         "mode": "lines",
         "type": "scatter",
         "x": [
          46.18656,
          45.79833,
          null,
          46.18656,
          45.74887,
          null,
          46.18656,
          46.62251,
          null,
          45.79833,
          45.84164,
          null,
          45.79833,
          45.09968,
          null,
          45.79833,
          47.0465,
          null,
          46.62251,
          47.0465,
          null,
          45.74887,
          45.69099,
          null,
          45.84164,
          44.42677,
          null,
          45.69099,
          44.90411,
          null,
          45.09968,
          44.33018,
          null,
          45.09968,
          44.85648,
          null,
          44.90411,
          44.63692,
          null,
          44.63692,
          44.33018,
          null,
          44.33018,
          44.85648,
          null,
          44.85648,
          44.42677,
          null,
          44.42677,
          43.90371,
          null,
          44.42677,
          44.71653,
          null,
          44.71653,
          44.68935,
          null,
          44.71653,
          46.64069,
          null,
          46.64069,
          47.15845,
          null,
          47.15845,
          46.97587,
          null,
          44.68935,
          44.04911,
          null
         ],
         "y": [
          21.31227,
          24.12558,
          null,
          21.31227,
          21.20868,
          null,
          21.31227,
          21.51742,
          null,
          24.12558,
          24.9731,
          null,
          24.12558,
          24.36932,
          null,
          24.12558,
          21.91894,
          null,
          21.51742,
          21.91894,
          null,
          21.20868,
          21.90346,
          null,
          24.9731,
          26.10254,
          null,
          21.90346,
          22.36452,
          null,
          24.36932,
          23.79488,
          null,
          24.36932,
          24.86918,
          null,
          22.36452,
          22.65973,
          null,
          22.65973,
          23.79488,
          null,
          23.79488,
          24.86918,
          null,
          24.86918,
          26.10254,
          null,
          26.10254,
          25.96993,
          null,
          26.10254,
          26.64112,
          null,
          26.64112,
          27.94566,
          null,
          26.64112,
          27.72765,
          null,
          27.72765,
          27.60144,
          null,
          27.60144,
          26.38188,
          null,
          27.94566,
          28.65273,
          null
         ]
        },
        {
         "marker": {
          "color": [
           0,
           0,
           0,
           0,
           0,
           0,
           0,
           0,
           0,
           0,
           0,
           0,
           0,
           0,
           0,
           0,
           0,
           0,
           0,
           0
          ],
          "colorbar": {
           "thickness": 15,
           "title": "Node Connections",
           "titleside": "right",
           "xanchor": "left"
          },
          "colorscale": "Hot",
          "line": {
           "width": 2
          },
          "reversescale": true,
          "showscale": false,
          "size": 10
         },
         "mode": "markers+text",
         "text": [
          "Intersection 0",
          "Intersection 1",
          "Intersection 2",
          "Intersection 3",
          "Intersection 4",
          "Intersection 5",
          "Intersection 6",
          "Intersection 7",
          "Intersection 8",
          "Intersection 9",
          "Intersection 10",
          "Intersection 11",
          "Intersection 12",
          "Intersection 13",
          "Intersection 14",
          "Intersection 15",
          "Intersection 16",
          "Intersection 17",
          "Intersection 18",
          "Intersection 19"
         ],
         "textposition": "bottom",
         "type": "scatter",
         "x": [
          46.18656,
          45.79833,
          46.62251,
          45.74887,
          47.0465,
          45.84164,
          45.69099,
          45.09968,
          44.90411,
          44.63692,
          44.33018,
          44.85648,
          44.42677,
          43.90371,
          44.71653,
          46.64069,
          47.15845,
          46.97587,
          44.68935,
          44.04911
         ],
         "y": [
          21.31227,
          24.12558,
          21.51742,
          21.20868,
          21.91894,
          24.9731,
          21.90346,
          24.36932,
          22.36452,
          22.65973,
          23.79488,
          24.86918,
          26.10254,
          25.96993,
          26.64112,
          27.72765,
          27.60144,
          26.38188,
          27.94566,
          28.65273
         ]
        }
       ],
       "layout": {
        "hovermode": "closest",
        "margin": {
         "b": 20,
         "l": 5,
         "r": 5,
         "t": 40
        },
        "showlegend": false,
        "title": "<br>Network graph made with Python",
        "titlefont": {
         "size": 16
        },
        "xaxis": {
         "showgrid": false,
         "showticklabels": false,
         "zeroline": false
        },
        "yaxis": {
         "showgrid": false,
         "showticklabels": false,
         "zeroline": false
        }
       }
      },
      "text/html": [
       "<div id=\"91fe2313-7473-42b1-a9d3-9b8292b7697f\" style=\"height: 525px; width: 100%;\" class=\"plotly-graph-div\"></div><script type=\"text/javascript\">require([\"plotly\"], function(Plotly) { window.PLOTLYENV=window.PLOTLYENV || {};window.PLOTLYENV.BASE_URL=\"https://plot.ly\";Plotly.newPlot(\"91fe2313-7473-42b1-a9d3-9b8292b7697f\", [{\"type\": \"scatter\", \"x\": [46.18656, 45.79833, null, 46.18656, 45.74887, null, 46.18656, 46.62251, null, 45.79833, 45.84164, null, 45.79833, 45.09968, null, 45.79833, 47.0465, null, 46.62251, 47.0465, null, 45.74887, 45.69099, null, 45.84164, 44.42677, null, 45.69099, 44.90411, null, 45.09968, 44.33018, null, 45.09968, 44.85648, null, 44.90411, 44.63692, null, 44.63692, 44.33018, null, 44.33018, 44.85648, null, 44.85648, 44.42677, null, 44.42677, 43.90371, null, 44.42677, 44.71653, null, 44.71653, 44.68935, null, 44.71653, 46.64069, null, 46.64069, 47.15845, null, 47.15845, 46.97587, null, 44.68935, 44.04911, null], \"y\": [21.31227, 24.12558, null, 21.31227, 21.20868, null, 21.31227, 21.51742, null, 24.12558, 24.9731, null, 24.12558, 24.36932, null, 24.12558, 21.91894, null, 21.51742, 21.91894, null, 21.20868, 21.90346, null, 24.9731, 26.10254, null, 21.90346, 22.36452, null, 24.36932, 23.79488, null, 24.36932, 24.86918, null, 22.36452, 22.65973, null, 22.65973, 23.79488, null, 23.79488, 24.86918, null, 24.86918, 26.10254, null, 26.10254, 25.96993, null, 26.10254, 26.64112, null, 26.64112, 27.94566, null, 26.64112, 27.72765, null, 27.72765, 27.60144, null, 27.60144, 26.38188, null, 27.94566, 28.65273, null], \"line\": {\"width\": 0.5, \"color\": \"#888\"}, \"hoverinfo\": \"none\", \"mode\": \"lines\"}, {\"type\": \"scatter\", \"x\": [46.18656, 45.79833, 46.62251, 45.74887, 47.0465, 45.84164, 45.69099, 45.09968, 44.90411, 44.63692, 44.33018, 44.85648, 44.42677, 43.90371, 44.71653, 46.64069, 47.15845, 46.97587, 44.68935, 44.04911], \"y\": [21.31227, 24.12558, 21.51742, 21.20868, 21.91894, 24.9731, 21.90346, 24.36932, 22.36452, 22.65973, 23.79488, 24.86918, 26.10254, 25.96993, 26.64112, 27.72765, 27.60144, 26.38188, 27.94566, 28.65273], \"text\": [\"Intersection 0\", \"Intersection 1\", \"Intersection 2\", \"Intersection 3\", \"Intersection 4\", \"Intersection 5\", \"Intersection 6\", \"Intersection 7\", \"Intersection 8\", \"Intersection 9\", \"Intersection 10\", \"Intersection 11\", \"Intersection 12\", \"Intersection 13\", \"Intersection 14\", \"Intersection 15\", \"Intersection 16\", \"Intersection 17\", \"Intersection 18\", \"Intersection 19\"], \"mode\": \"markers+text\", \"textposition\": \"bottom\", \"marker\": {\"showscale\": false, \"colorscale\": \"Hot\", \"reversescale\": true, \"color\": [0, 0, 0, 0, 0, 0, 0, 0, 0, 0, 0, 0, 0, 0, 0, 0, 0, 0, 0, 0], \"size\": 10, \"colorbar\": {\"thickness\": 15, \"title\": \"Node Connections\", \"xanchor\": \"left\", \"titleside\": \"right\"}, \"line\": {\"width\": 2}}}], {\"title\": \"<br>Network graph made with Python\", \"titlefont\": {\"size\": 16}, \"showlegend\": false, \"hovermode\": \"closest\", \"margin\": {\"b\": 20, \"l\": 5, \"r\": 5, \"t\": 40}, \"xaxis\": {\"showgrid\": false, \"zeroline\": false, \"showticklabels\": false}, \"yaxis\": {\"showgrid\": false, \"zeroline\": false, \"showticklabels\": false}}, {\"showLink\": true, \"linkText\": \"Export to plot.ly\"})});</script>"
      ],
      "text/vnd.plotly.v1+html": [
       "<div id=\"91fe2313-7473-42b1-a9d3-9b8292b7697f\" style=\"height: 525px; width: 100%;\" class=\"plotly-graph-div\"></div><script type=\"text/javascript\">require([\"plotly\"], function(Plotly) { window.PLOTLYENV=window.PLOTLYENV || {};window.PLOTLYENV.BASE_URL=\"https://plot.ly\";Plotly.newPlot(\"91fe2313-7473-42b1-a9d3-9b8292b7697f\", [{\"type\": \"scatter\", \"x\": [46.18656, 45.79833, null, 46.18656, 45.74887, null, 46.18656, 46.62251, null, 45.79833, 45.84164, null, 45.79833, 45.09968, null, 45.79833, 47.0465, null, 46.62251, 47.0465, null, 45.74887, 45.69099, null, 45.84164, 44.42677, null, 45.69099, 44.90411, null, 45.09968, 44.33018, null, 45.09968, 44.85648, null, 44.90411, 44.63692, null, 44.63692, 44.33018, null, 44.33018, 44.85648, null, 44.85648, 44.42677, null, 44.42677, 43.90371, null, 44.42677, 44.71653, null, 44.71653, 44.68935, null, 44.71653, 46.64069, null, 46.64069, 47.15845, null, 47.15845, 46.97587, null, 44.68935, 44.04911, null], \"y\": [21.31227, 24.12558, null, 21.31227, 21.20868, null, 21.31227, 21.51742, null, 24.12558, 24.9731, null, 24.12558, 24.36932, null, 24.12558, 21.91894, null, 21.51742, 21.91894, null, 21.20868, 21.90346, null, 24.9731, 26.10254, null, 21.90346, 22.36452, null, 24.36932, 23.79488, null, 24.36932, 24.86918, null, 22.36452, 22.65973, null, 22.65973, 23.79488, null, 23.79488, 24.86918, null, 24.86918, 26.10254, null, 26.10254, 25.96993, null, 26.10254, 26.64112, null, 26.64112, 27.94566, null, 26.64112, 27.72765, null, 27.72765, 27.60144, null, 27.60144, 26.38188, null, 27.94566, 28.65273, null], \"line\": {\"width\": 0.5, \"color\": \"#888\"}, \"hoverinfo\": \"none\", \"mode\": \"lines\"}, {\"type\": \"scatter\", \"x\": [46.18656, 45.79833, 46.62251, 45.74887, 47.0465, 45.84164, 45.69099, 45.09968, 44.90411, 44.63692, 44.33018, 44.85648, 44.42677, 43.90371, 44.71653, 46.64069, 47.15845, 46.97587, 44.68935, 44.04911], \"y\": [21.31227, 24.12558, 21.51742, 21.20868, 21.91894, 24.9731, 21.90346, 24.36932, 22.36452, 22.65973, 23.79488, 24.86918, 26.10254, 25.96993, 26.64112, 27.72765, 27.60144, 26.38188, 27.94566, 28.65273], \"text\": [\"Intersection 0\", \"Intersection 1\", \"Intersection 2\", \"Intersection 3\", \"Intersection 4\", \"Intersection 5\", \"Intersection 6\", \"Intersection 7\", \"Intersection 8\", \"Intersection 9\", \"Intersection 10\", \"Intersection 11\", \"Intersection 12\", \"Intersection 13\", \"Intersection 14\", \"Intersection 15\", \"Intersection 16\", \"Intersection 17\", \"Intersection 18\", \"Intersection 19\"], \"mode\": \"markers+text\", \"textposition\": \"bottom\", \"marker\": {\"showscale\": false, \"colorscale\": \"Hot\", \"reversescale\": true, \"color\": [0, 0, 0, 0, 0, 0, 0, 0, 0, 0, 0, 0, 0, 0, 0, 0, 0, 0, 0, 0], \"size\": 10, \"colorbar\": {\"thickness\": 15, \"title\": \"Node Connections\", \"xanchor\": \"left\", \"titleside\": \"right\"}, \"line\": {\"width\": 2}}}], {\"title\": \"<br>Network graph made with Python\", \"titlefont\": {\"size\": 16}, \"showlegend\": false, \"hovermode\": \"closest\", \"margin\": {\"b\": 20, \"l\": 5, \"r\": 5, \"t\": 40}, \"xaxis\": {\"showgrid\": false, \"zeroline\": false, \"showticklabels\": false}, \"yaxis\": {\"showgrid\": false, \"zeroline\": false, \"showticklabels\": false}}, {\"showLink\": true, \"linkText\": \"Export to plot.ly\"})});</script>"
      ]
     },
     "metadata": {},
     "output_type": "display_data"
    }
   ],
   "source": [
    "romania_location_map = {\n",
    "    'A' : {'pos': (46.18656,21.31227), 'connections': ['S','T','Z'] },\n",
    "    'S' : {'pos': (45.79833,24.12558), 'connections': ['F','RV','O'] },\n",
    "    'Z' : {'pos': (46.62251,21.51742), 'connections': ['O'] },\n",
    "    'T' : {'pos': (45.74887,21.20868), 'connections': ['LU'] },\n",
    "    'O' : {'pos': (47.04650,21.91894), 'connections': [] },\n",
    "    'F' : {'pos': (45.84164,24.97310), 'connections': ['B'] },\n",
    "    'LU' : {'pos': (45.69099,21.90346), 'connections': ['M'] },\n",
    "    'RV' : {'pos': (45.09968,24.36932), 'connections': ['C','P'] },\n",
    "    'M' : {'pos': (44.90411,22.36452), 'connections': ['D'] },\n",
    "    'D' : {'pos': (44.63692,22.65973), 'connections': ['C'] },\n",
    "    'C' : {'pos': (44.33018,23.79488), 'connections': [] },\n",
    "    'P' : {'pos': (44.85648,24.86918), 'connections': ['B','C'] },\n",
    "    'B' : {'pos': (44.42677,26.10254), 'connections': ['G','U'] },\n",
    "    'G' : {'pos': (43.90371,25.96993), 'connections': [] },\n",
    "    'U' : {'pos': (44.71653,26.64112), 'connections': ['H','V'] },\n",
    "    'V' : {'pos': (46.64069,27.72765), 'connections': ['LA'] },\n",
    "    'LA' : {'pos': (47.15845,27.60144), 'connections': ['N'] },\n",
    "    'N' : {'pos': (46.97587,26.38188), 'connections': [] },\n",
    "    'H' : {'pos': (44.68935,27.94566), 'connections': ['E'] },\n",
    "    'E' : {'pos': (44.04911,28.65273), 'connections': [] }\n",
    "}\n",
    "\n",
    "import networkx as nx\n",
    "import plotly as py\n",
    "from plotly.graph_objs import *\n",
    "\n",
    "def load_map_graph(map_dict):\n",
    "\tG = nx.Graph()\n",
    "\tfor node in map_dict.keys():\n",
    "\t\tG.add_node(node, pos=map_dict[node]['pos'])\n",
    "\tfor node in map_dict.keys():\n",
    "\t\tfor con_node in map_dict[node]['connections']:\n",
    "\t\t\tG.add_edge(node, con_node)\n",
    "\treturn G\n",
    "\n",
    "def show_map(M, start=None, goal=None, path=None):\n",
    "    G = M\n",
    "    pos = nx.get_node_attributes(G, 'pos')\n",
    "    edge_trace = Scatter(\n",
    "    x=[],\n",
    "    y=[],\n",
    "    line=Line(width=0.5,color='#888'),\n",
    "    hoverinfo='none',\n",
    "    mode='lines')\n",
    "\n",
    "    for edge in G.edges():\n",
    "        x0, y0 = G.node[edge[0]]['pos']\n",
    "        x1, y1 = G.node[edge[1]]['pos']\n",
    "        edge_trace['x'] += [x0, x1, None]\n",
    "        edge_trace['y'] += [y0, y1, None]\n",
    "\n",
    "    node_trace = Scatter(\n",
    "        x=[],\n",
    "        y=[],\n",
    "        text=[],\n",
    "        mode='markers+text',\n",
    "        textposition='bottom',\n",
    "        marker=Marker(\n",
    "            showscale=False,\n",
    "            # colorscale options\n",
    "            # 'Greys' | 'Greens' | 'Bluered' | 'Hot' | 'Picnic' | 'Portland' |\n",
    "            # Jet' | 'RdBu' | 'Blackbody' | 'Earth' | 'Electric' | 'YIOrRd' | 'YIGnBu'\n",
    "            colorscale='Hot',\n",
    "            reversescale=True,\n",
    "            color=[],\n",
    "            size=10,\n",
    "            colorbar=dict(\n",
    "                thickness=15,\n",
    "                title='Node Connections',\n",
    "                xanchor='left',\n",
    "                titleside='right'\n",
    "            ),\n",
    "            line=dict(width=2)))\n",
    "    for node in G.nodes():\n",
    "        x, y = G.node[node]['pos']\n",
    "        node_trace['x'].append(x)\n",
    "        node_trace['y'].append(y)\n",
    "\n",
    "    #for node, adjacencies in enumerate(G.adjacency_list()):\n",
    "    for node, adjacencies in enumerate(G.adjacency()): #method change in networkx 2.0: https://networkx.github.io/documentation/networkx-2.0/release/release_2.0.html\n",
    "        color = 0\n",
    "        if path and node in path:\n",
    "            color = 2\n",
    "        if node == start:\n",
    "            color = 3\n",
    "        elif node == goal:\n",
    "            color = 1\n",
    "        # node_trace['marker']['color'].append(len(adjacencies))\n",
    "        node_trace['marker']['color'].append(color)\n",
    "        node_info = \"Intersection \" + str(node)\n",
    "        node_trace['text'].append(node_info)\n",
    "\n",
    "    fig = Figure(data=Data([edge_trace, node_trace]),\n",
    "                 layout=Layout(\n",
    "                    title='<br>Network graph made with Python',\n",
    "                    titlefont=dict(size=16),\n",
    "                    showlegend=False,\n",
    "                    hovermode='closest',\n",
    "                    margin=dict(b=20,l=5,r=5,t=40),\n",
    "                    xaxis=XAxis(showgrid=False, zeroline=False, showticklabels=False),\n",
    "                    yaxis=YAxis(showgrid=False, zeroline=False, showticklabels=False)))\n",
    "\n",
    "    #iplot(fig)\n",
    "    py.offline.iplot(fig) #for python in command prompt\n",
    "    \n",
    "#testing 1\n",
    "show_map(load_map_graph(romania_location_map))"
   ]
  },
  {
   "cell_type": "code",
   "execution_count": null,
   "metadata": {},
   "outputs": [],
   "source": []
  }
 ],
 "metadata": {
  "kernelspec": {
   "display_name": "Python 3",
   "language": "python",
   "name": "python3"
  },
  "language_info": {
   "codemirror_mode": {
    "name": "ipython",
    "version": 3
   },
   "file_extension": ".py",
   "mimetype": "text/x-python",
   "name": "python",
   "nbconvert_exporter": "python",
   "pygments_lexer": "ipython3",
   "version": "3.6.3"
  }
 },
 "nbformat": 4,
 "nbformat_minor": 2
}
